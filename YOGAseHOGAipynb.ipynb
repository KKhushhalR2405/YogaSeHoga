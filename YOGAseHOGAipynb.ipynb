{
  "nbformat": 4,
  "nbformat_minor": 0,
  "metadata": {
    "colab": {
      "name": "YOGAseHOGAipynb",
      "provenance": [],
      "mount_file_id": "1za8V2QoKRShI7ULYJfCxhHHImiaiI3Ej",
      "authorship_tag": "ABX9TyO60NT6ljT9o0RnrQ+lb333",
      "include_colab_link": true
    },
    "kernelspec": {
      "name": "python3",
      "display_name": "Python 3"
    },
    "widgets": {
      "application/vnd.jupyter.widget-state+json": {
        "278affd5c9c240a7ac8a390ea2aacd44": {
          "model_module": "@jupyter-widgets/controls",
          "model_name": "HBoxModel",
          "state": {
            "_view_name": "HBoxView",
            "_dom_classes": [],
            "_model_name": "HBoxModel",
            "_view_module": "@jupyter-widgets/controls",
            "_model_module_version": "1.5.0",
            "_view_count": null,
            "_view_module_version": "1.5.0",
            "box_style": "",
            "layout": "IPY_MODEL_9d1ca552c9564c65b44b020037c3dcfb",
            "_model_module": "@jupyter-widgets/controls",
            "children": [
              "IPY_MODEL_f1958c3c52b948b39b535f80214917f0",
              "IPY_MODEL_df61a99135714e2dae2f0f8a2e58b38c"
            ]
          }
        },
        "9d1ca552c9564c65b44b020037c3dcfb": {
          "model_module": "@jupyter-widgets/base",
          "model_name": "LayoutModel",
          "state": {
            "_view_name": "LayoutView",
            "grid_template_rows": null,
            "right": null,
            "justify_content": null,
            "_view_module": "@jupyter-widgets/base",
            "overflow": null,
            "_model_module_version": "1.2.0",
            "_view_count": null,
            "flex_flow": null,
            "width": null,
            "min_width": null,
            "border": null,
            "align_items": null,
            "bottom": null,
            "_model_module": "@jupyter-widgets/base",
            "top": null,
            "grid_column": null,
            "overflow_y": null,
            "overflow_x": null,
            "grid_auto_flow": null,
            "grid_area": null,
            "grid_template_columns": null,
            "flex": null,
            "_model_name": "LayoutModel",
            "justify_items": null,
            "grid_row": null,
            "max_height": null,
            "align_content": null,
            "visibility": null,
            "align_self": null,
            "height": null,
            "min_height": null,
            "padding": null,
            "grid_auto_rows": null,
            "grid_gap": null,
            "max_width": null,
            "order": null,
            "_view_module_version": "1.2.0",
            "grid_template_areas": null,
            "object_position": null,
            "object_fit": null,
            "grid_auto_columns": null,
            "margin": null,
            "display": null,
            "left": null
          }
        },
        "f1958c3c52b948b39b535f80214917f0": {
          "model_module": "@jupyter-widgets/controls",
          "model_name": "FloatProgressModel",
          "state": {
            "_view_name": "ProgressView",
            "style": "IPY_MODEL_40f9633ff18942cfaac95d0c701687ee",
            "_dom_classes": [],
            "description": "100%",
            "_model_name": "FloatProgressModel",
            "bar_style": "success",
            "max": 102502400,
            "_view_module": "@jupyter-widgets/controls",
            "_model_module_version": "1.5.0",
            "value": 102502400,
            "_view_count": null,
            "_view_module_version": "1.5.0",
            "orientation": "horizontal",
            "min": 0,
            "description_tooltip": null,
            "_model_module": "@jupyter-widgets/controls",
            "layout": "IPY_MODEL_d68984f7d0f241f39acf2eaf3517629a"
          }
        },
        "df61a99135714e2dae2f0f8a2e58b38c": {
          "model_module": "@jupyter-widgets/controls",
          "model_name": "HTMLModel",
          "state": {
            "_view_name": "HTMLView",
            "style": "IPY_MODEL_3c6b1bca7f4548cdbf5956a14168f1db",
            "_dom_classes": [],
            "description": "",
            "_model_name": "HTMLModel",
            "placeholder": "​",
            "_view_module": "@jupyter-widgets/controls",
            "_model_module_version": "1.5.0",
            "value": " 97.8M/97.8M [00:22&lt;00:00, 4.56MB/s]",
            "_view_count": null,
            "_view_module_version": "1.5.0",
            "description_tooltip": null,
            "_model_module": "@jupyter-widgets/controls",
            "layout": "IPY_MODEL_f181c6e085c94293aace2ed193f7af63"
          }
        },
        "40f9633ff18942cfaac95d0c701687ee": {
          "model_module": "@jupyter-widgets/controls",
          "model_name": "ProgressStyleModel",
          "state": {
            "_view_name": "StyleView",
            "_model_name": "ProgressStyleModel",
            "description_width": "initial",
            "_view_module": "@jupyter-widgets/base",
            "_model_module_version": "1.5.0",
            "_view_count": null,
            "_view_module_version": "1.2.0",
            "bar_color": null,
            "_model_module": "@jupyter-widgets/controls"
          }
        },
        "d68984f7d0f241f39acf2eaf3517629a": {
          "model_module": "@jupyter-widgets/base",
          "model_name": "LayoutModel",
          "state": {
            "_view_name": "LayoutView",
            "grid_template_rows": null,
            "right": null,
            "justify_content": null,
            "_view_module": "@jupyter-widgets/base",
            "overflow": null,
            "_model_module_version": "1.2.0",
            "_view_count": null,
            "flex_flow": null,
            "width": null,
            "min_width": null,
            "border": null,
            "align_items": null,
            "bottom": null,
            "_model_module": "@jupyter-widgets/base",
            "top": null,
            "grid_column": null,
            "overflow_y": null,
            "overflow_x": null,
            "grid_auto_flow": null,
            "grid_area": null,
            "grid_template_columns": null,
            "flex": null,
            "_model_name": "LayoutModel",
            "justify_items": null,
            "grid_row": null,
            "max_height": null,
            "align_content": null,
            "visibility": null,
            "align_self": null,
            "height": null,
            "min_height": null,
            "padding": null,
            "grid_auto_rows": null,
            "grid_gap": null,
            "max_width": null,
            "order": null,
            "_view_module_version": "1.2.0",
            "grid_template_areas": null,
            "object_position": null,
            "object_fit": null,
            "grid_auto_columns": null,
            "margin": null,
            "display": null,
            "left": null
          }
        },
        "3c6b1bca7f4548cdbf5956a14168f1db": {
          "model_module": "@jupyter-widgets/controls",
          "model_name": "DescriptionStyleModel",
          "state": {
            "_view_name": "StyleView",
            "_model_name": "DescriptionStyleModel",
            "description_width": "",
            "_view_module": "@jupyter-widgets/base",
            "_model_module_version": "1.5.0",
            "_view_count": null,
            "_view_module_version": "1.2.0",
            "_model_module": "@jupyter-widgets/controls"
          }
        },
        "f181c6e085c94293aace2ed193f7af63": {
          "model_module": "@jupyter-widgets/base",
          "model_name": "LayoutModel",
          "state": {
            "_view_name": "LayoutView",
            "grid_template_rows": null,
            "right": null,
            "justify_content": null,
            "_view_module": "@jupyter-widgets/base",
            "overflow": null,
            "_model_module_version": "1.2.0",
            "_view_count": null,
            "flex_flow": null,
            "width": null,
            "min_width": null,
            "border": null,
            "align_items": null,
            "bottom": null,
            "_model_module": "@jupyter-widgets/base",
            "top": null,
            "grid_column": null,
            "overflow_y": null,
            "overflow_x": null,
            "grid_auto_flow": null,
            "grid_area": null,
            "grid_template_columns": null,
            "flex": null,
            "_model_name": "LayoutModel",
            "justify_items": null,
            "grid_row": null,
            "max_height": null,
            "align_content": null,
            "visibility": null,
            "align_self": null,
            "height": null,
            "min_height": null,
            "padding": null,
            "grid_auto_rows": null,
            "grid_gap": null,
            "max_width": null,
            "order": null,
            "_view_module_version": "1.2.0",
            "grid_template_areas": null,
            "object_position": null,
            "object_fit": null,
            "grid_auto_columns": null,
            "margin": null,
            "display": null,
            "left": null
          }
        }
      }
    }
  },
  "cells": [
    {
      "cell_type": "markdown",
      "metadata": {
        "id": "view-in-github",
        "colab_type": "text"
      },
      "source": [
        "<a href=\"https://colab.research.google.com/github/KKhushhalR2405/YogaSeHoga/blob/master/YOGAseHOGAipynb.ipynb\" target=\"_parent\"><img src=\"https://colab.research.google.com/assets/colab-badge.svg\" alt=\"Open In Colab\"/></a>"
      ]
    },
    {
      "cell_type": "code",
      "metadata": {
        "id": "3vkbYDJHZ9Vh",
        "colab_type": "code",
        "colab": {
          "base_uri": "https://localhost:8080/",
          "height": 34
        },
        "outputId": "d45d0a8a-9bf2-4878-88b0-99ba4576aad0"
      },
      "source": [
        "%cd /content/drive/My Drive"
      ],
      "execution_count": null,
      "outputs": [
        {
          "output_type": "stream",
          "text": [
            "/content/drive/My Drive\n"
          ],
          "name": "stdout"
        }
      ]
    },
    {
      "cell_type": "code",
      "metadata": {
        "id": "xYvL3WWkar1Q",
        "colab_type": "code",
        "colab": {
          "base_uri": "https://localhost:8080/",
          "height": 35
        },
        "outputId": "ca293e0a-d913-4394-ada5-bebca3e97d5a"
      },
      "source": [
        "pwd"
      ],
      "execution_count": null,
      "outputs": [
        {
          "output_type": "execute_result",
          "data": {
            "application/vnd.google.colaboratory.intrinsic+json": {
              "type": "string"
            },
            "text/plain": [
              "'/content/drive/My Drive'"
            ]
          },
          "metadata": {
            "tags": []
          },
          "execution_count": 2
        }
      ]
    },
    {
      "cell_type": "code",
      "metadata": {
        "id": "WLceQ5l3auTJ",
        "colab_type": "code",
        "colab": {
          "base_uri": "https://localhost:8080/",
          "height": 34
        },
        "outputId": "6cb56944-590b-4bc2-86dc-f76b2a0725aa"
      },
      "source": [
        "import numpy as np\n",
        "from glob import glob\n",
        "\n",
        "plant_file = np.array(glob(\"training_set/*/*\"))\n",
        "\n",
        "print(\"Total images : {}\".format(len(plant_file)))"
      ],
      "execution_count": null,
      "outputs": [
        {
          "output_type": "stream",
          "text": [
            "Total images : 734\n"
          ],
          "name": "stdout"
        }
      ]
    },
    {
      "cell_type": "code",
      "metadata": {
        "id": "T4ZUdwiNa29S",
        "colab_type": "code",
        "colab": {}
      },
      "source": [
        "\n",
        "import os\n",
        "import numpy as np\n",
        "import torch\n",
        "\n",
        "import torchvision\n",
        "from torchvision import datasets, models, transforms\n",
        "import matplotlib.pyplot as plt\n",
        "\n",
        "%matplotlib inline"
      ],
      "execution_count": null,
      "outputs": []
    },
    {
      "cell_type": "code",
      "metadata": {
        "id": "vmq6iDmydy1y",
        "colab_type": "code",
        "colab": {
          "base_uri": "https://localhost:8080/",
          "height": 34
        },
        "outputId": "e82c05ad-0339-48a4-97cf-cfb4c0104ab8"
      },
      "source": [
        "\n",
        "use_cuda = torch.cuda.is_available()\n",
        "\n",
        "if not use_cuda:\n",
        "    print('CUDA is not available.  Training on CPU ...')\n",
        "else:\n",
        "    print('CUDA is available!  Training on GPU ...')"
      ],
      "execution_count": null,
      "outputs": [
        {
          "output_type": "stream",
          "text": [
            "CUDA is available!  Training on GPU ...\n"
          ],
          "name": "stdout"
        }
      ]
    },
    {
      "cell_type": "code",
      "metadata": {
        "id": "gVWMS_r2d3KY",
        "colab_type": "code",
        "colab": {}
      },
      "source": [
        "\n",
        "import os\n",
        "from torchvision import datasets\n",
        "\n",
        "\n",
        "from torchvision import datasets\n",
        "import torchvision.transforms as transforms\n",
        "import torch\n",
        "import numpy as np\n",
        "from PIL import ImageFile\n",
        "ImageFile.LOAD_TRUNCATED_IMAGES = True\n",
        "\n",
        "\n",
        "\n",
        "batch_size = 10\n",
        "num_workers = 0\n",
        "\n",
        "data_dir = \"/content/drive/My Drive\"\n",
        "train_dir = os.path.join(data_dir, 'training_set/')\n",
        "valid_dir = os.path.join(data_dir, 'test_set/')"
      ],
      "execution_count": null,
      "outputs": []
    },
    {
      "cell_type": "code",
      "metadata": {
        "id": "gN8jGvkHgj5Q",
        "colab_type": "code",
        "colab": {}
      },
      "source": [
        "standard_normalization = transforms.Normalize(mean=[0.485, 0.456, 0.406],\n",
        "                                              std=[0.229, 0.224, 0.225])\n",
        "\n",
        "data_transforms = {'train': transforms.Compose([transforms.RandomResizedCrop(224),\n",
        "                                     transforms.RandomRotation(45, resample=False, expand=False, center=None, fill=None),\n",
        "                                     transforms.ToTensor(),\n",
        "                                     standard_normalization]),\n",
        "                   'val': transforms.Compose([transforms.Resize(256),\n",
        "                                     transforms.CenterCrop(224),\n",
        "                                     transforms.ToTensor(),\n",
        "                                     standard_normalization])}"
      ],
      "execution_count": null,
      "outputs": []
    },
    {
      "cell_type": "code",
      "metadata": {
        "id": "zd4AjzF0hhmv",
        "colab_type": "code",
        "colab": {}
      },
      "source": [
        "\n",
        "train_data = datasets.ImageFolder(train_dir, transform=data_transforms['train'])\n",
        "valid_data = datasets.ImageFolder(valid_dir, transform=data_transforms['val'])"
      ],
      "execution_count": null,
      "outputs": []
    },
    {
      "cell_type": "code",
      "metadata": {
        "id": "wiwcd0GEhnMH",
        "colab_type": "code",
        "colab": {}
      },
      "source": [
        "train_loader = torch.utils.data.DataLoader(train_data,\n",
        "                                           batch_size=batch_size, \n",
        "                                           num_workers=num_workers,\n",
        "                                           shuffle=True)\n",
        "valid_loader = torch.utils.data.DataLoader(valid_data,\n",
        "                                           batch_size=batch_size, \n",
        "                                           num_workers=num_workers,\n",
        "                                           shuffle=False)"
      ],
      "execution_count": null,
      "outputs": []
    },
    {
      "cell_type": "code",
      "metadata": {
        "id": "Z7K0iUSzhr1X",
        "colab_type": "code",
        "colab": {}
      },
      "source": [
        "\n",
        "loaders_scratch = {\n",
        "    'train': train_loader,\n",
        "    'valid': valid_loader}"
      ],
      "execution_count": null,
      "outputs": []
    },
    {
      "cell_type": "code",
      "metadata": {
        "id": "QWPUopwJhu1f",
        "colab_type": "code",
        "colab": {
          "base_uri": "https://localhost:8080/",
          "height": 83,
          "referenced_widgets": [
            "278affd5c9c240a7ac8a390ea2aacd44",
            "9d1ca552c9564c65b44b020037c3dcfb",
            "f1958c3c52b948b39b535f80214917f0",
            "df61a99135714e2dae2f0f8a2e58b38c",
            "40f9633ff18942cfaac95d0c701687ee",
            "d68984f7d0f241f39acf2eaf3517629a",
            "3c6b1bca7f4548cdbf5956a14168f1db",
            "f181c6e085c94293aace2ed193f7af63"
          ]
        },
        "outputId": "8b989b9b-d1b8-475e-bbd7-f9239b5ad8fc"
      },
      "source": [
        "import torch.nn as nn\n",
        "\n",
        "## TODO: Specify model architecture \n",
        "model_transfer = models.resnet50(pretrained=True)\n",
        "\n",
        "for param in model_transfer.parameters():\n",
        "    param.requires_grad = False\n",
        "    \n",
        "model_transfer.fc = nn.Linear(2048,10,bias=True)\n",
        "\n",
        "\n",
        "fc_parameters = model_transfer.fc.parameters()\n",
        "\n",
        "\n",
        "for param in fc_parameters:\n",
        "    param.requires_grad = True\n",
        "\n",
        "\n",
        "if use_cuda:\n",
        "    model_transfer = model_transfer.cuda()"
      ],
      "execution_count": null,
      "outputs": [
        {
          "output_type": "stream",
          "text": [
            "Downloading: \"https://download.pytorch.org/models/resnet50-19c8e357.pth\" to /root/.cache/torch/hub/checkpoints/resnet50-19c8e357.pth\n"
          ],
          "name": "stderr"
        },
        {
          "output_type": "display_data",
          "data": {
            "application/vnd.jupyter.widget-view+json": {
              "model_id": "278affd5c9c240a7ac8a390ea2aacd44",
              "version_minor": 0,
              "version_major": 2
            },
            "text/plain": [
              "HBox(children=(FloatProgress(value=0.0, max=102502400.0), HTML(value='')))"
            ]
          },
          "metadata": {
            "tags": []
          }
        },
        {
          "output_type": "stream",
          "text": [
            "\n"
          ],
          "name": "stdout"
        }
      ]
    },
    {
      "cell_type": "code",
      "metadata": {
        "id": "-xyGPXGDh-tX",
        "colab_type": "code",
        "colab": {
          "base_uri": "https://localhost:8080/",
          "height": 1000
        },
        "outputId": "8187d0b5-3d8c-476a-a1ae-fbd48efb8c65"
      },
      "source": [
        "model_transfer"
      ],
      "execution_count": null,
      "outputs": [
        {
          "output_type": "execute_result",
          "data": {
            "text/plain": [
              "ResNet(\n",
              "  (conv1): Conv2d(3, 64, kernel_size=(7, 7), stride=(2, 2), padding=(3, 3), bias=False)\n",
              "  (bn1): BatchNorm2d(64, eps=1e-05, momentum=0.1, affine=True, track_running_stats=True)\n",
              "  (relu): ReLU(inplace=True)\n",
              "  (maxpool): MaxPool2d(kernel_size=3, stride=2, padding=1, dilation=1, ceil_mode=False)\n",
              "  (layer1): Sequential(\n",
              "    (0): Bottleneck(\n",
              "      (conv1): Conv2d(64, 64, kernel_size=(1, 1), stride=(1, 1), bias=False)\n",
              "      (bn1): BatchNorm2d(64, eps=1e-05, momentum=0.1, affine=True, track_running_stats=True)\n",
              "      (conv2): Conv2d(64, 64, kernel_size=(3, 3), stride=(1, 1), padding=(1, 1), bias=False)\n",
              "      (bn2): BatchNorm2d(64, eps=1e-05, momentum=0.1, affine=True, track_running_stats=True)\n",
              "      (conv3): Conv2d(64, 256, kernel_size=(1, 1), stride=(1, 1), bias=False)\n",
              "      (bn3): BatchNorm2d(256, eps=1e-05, momentum=0.1, affine=True, track_running_stats=True)\n",
              "      (relu): ReLU(inplace=True)\n",
              "      (downsample): Sequential(\n",
              "        (0): Conv2d(64, 256, kernel_size=(1, 1), stride=(1, 1), bias=False)\n",
              "        (1): BatchNorm2d(256, eps=1e-05, momentum=0.1, affine=True, track_running_stats=True)\n",
              "      )\n",
              "    )\n",
              "    (1): Bottleneck(\n",
              "      (conv1): Conv2d(256, 64, kernel_size=(1, 1), stride=(1, 1), bias=False)\n",
              "      (bn1): BatchNorm2d(64, eps=1e-05, momentum=0.1, affine=True, track_running_stats=True)\n",
              "      (conv2): Conv2d(64, 64, kernel_size=(3, 3), stride=(1, 1), padding=(1, 1), bias=False)\n",
              "      (bn2): BatchNorm2d(64, eps=1e-05, momentum=0.1, affine=True, track_running_stats=True)\n",
              "      (conv3): Conv2d(64, 256, kernel_size=(1, 1), stride=(1, 1), bias=False)\n",
              "      (bn3): BatchNorm2d(256, eps=1e-05, momentum=0.1, affine=True, track_running_stats=True)\n",
              "      (relu): ReLU(inplace=True)\n",
              "    )\n",
              "    (2): Bottleneck(\n",
              "      (conv1): Conv2d(256, 64, kernel_size=(1, 1), stride=(1, 1), bias=False)\n",
              "      (bn1): BatchNorm2d(64, eps=1e-05, momentum=0.1, affine=True, track_running_stats=True)\n",
              "      (conv2): Conv2d(64, 64, kernel_size=(3, 3), stride=(1, 1), padding=(1, 1), bias=False)\n",
              "      (bn2): BatchNorm2d(64, eps=1e-05, momentum=0.1, affine=True, track_running_stats=True)\n",
              "      (conv3): Conv2d(64, 256, kernel_size=(1, 1), stride=(1, 1), bias=False)\n",
              "      (bn3): BatchNorm2d(256, eps=1e-05, momentum=0.1, affine=True, track_running_stats=True)\n",
              "      (relu): ReLU(inplace=True)\n",
              "    )\n",
              "  )\n",
              "  (layer2): Sequential(\n",
              "    (0): Bottleneck(\n",
              "      (conv1): Conv2d(256, 128, kernel_size=(1, 1), stride=(1, 1), bias=False)\n",
              "      (bn1): BatchNorm2d(128, eps=1e-05, momentum=0.1, affine=True, track_running_stats=True)\n",
              "      (conv2): Conv2d(128, 128, kernel_size=(3, 3), stride=(2, 2), padding=(1, 1), bias=False)\n",
              "      (bn2): BatchNorm2d(128, eps=1e-05, momentum=0.1, affine=True, track_running_stats=True)\n",
              "      (conv3): Conv2d(128, 512, kernel_size=(1, 1), stride=(1, 1), bias=False)\n",
              "      (bn3): BatchNorm2d(512, eps=1e-05, momentum=0.1, affine=True, track_running_stats=True)\n",
              "      (relu): ReLU(inplace=True)\n",
              "      (downsample): Sequential(\n",
              "        (0): Conv2d(256, 512, kernel_size=(1, 1), stride=(2, 2), bias=False)\n",
              "        (1): BatchNorm2d(512, eps=1e-05, momentum=0.1, affine=True, track_running_stats=True)\n",
              "      )\n",
              "    )\n",
              "    (1): Bottleneck(\n",
              "      (conv1): Conv2d(512, 128, kernel_size=(1, 1), stride=(1, 1), bias=False)\n",
              "      (bn1): BatchNorm2d(128, eps=1e-05, momentum=0.1, affine=True, track_running_stats=True)\n",
              "      (conv2): Conv2d(128, 128, kernel_size=(3, 3), stride=(1, 1), padding=(1, 1), bias=False)\n",
              "      (bn2): BatchNorm2d(128, eps=1e-05, momentum=0.1, affine=True, track_running_stats=True)\n",
              "      (conv3): Conv2d(128, 512, kernel_size=(1, 1), stride=(1, 1), bias=False)\n",
              "      (bn3): BatchNorm2d(512, eps=1e-05, momentum=0.1, affine=True, track_running_stats=True)\n",
              "      (relu): ReLU(inplace=True)\n",
              "    )\n",
              "    (2): Bottleneck(\n",
              "      (conv1): Conv2d(512, 128, kernel_size=(1, 1), stride=(1, 1), bias=False)\n",
              "      (bn1): BatchNorm2d(128, eps=1e-05, momentum=0.1, affine=True, track_running_stats=True)\n",
              "      (conv2): Conv2d(128, 128, kernel_size=(3, 3), stride=(1, 1), padding=(1, 1), bias=False)\n",
              "      (bn2): BatchNorm2d(128, eps=1e-05, momentum=0.1, affine=True, track_running_stats=True)\n",
              "      (conv3): Conv2d(128, 512, kernel_size=(1, 1), stride=(1, 1), bias=False)\n",
              "      (bn3): BatchNorm2d(512, eps=1e-05, momentum=0.1, affine=True, track_running_stats=True)\n",
              "      (relu): ReLU(inplace=True)\n",
              "    )\n",
              "    (3): Bottleneck(\n",
              "      (conv1): Conv2d(512, 128, kernel_size=(1, 1), stride=(1, 1), bias=False)\n",
              "      (bn1): BatchNorm2d(128, eps=1e-05, momentum=0.1, affine=True, track_running_stats=True)\n",
              "      (conv2): Conv2d(128, 128, kernel_size=(3, 3), stride=(1, 1), padding=(1, 1), bias=False)\n",
              "      (bn2): BatchNorm2d(128, eps=1e-05, momentum=0.1, affine=True, track_running_stats=True)\n",
              "      (conv3): Conv2d(128, 512, kernel_size=(1, 1), stride=(1, 1), bias=False)\n",
              "      (bn3): BatchNorm2d(512, eps=1e-05, momentum=0.1, affine=True, track_running_stats=True)\n",
              "      (relu): ReLU(inplace=True)\n",
              "    )\n",
              "  )\n",
              "  (layer3): Sequential(\n",
              "    (0): Bottleneck(\n",
              "      (conv1): Conv2d(512, 256, kernel_size=(1, 1), stride=(1, 1), bias=False)\n",
              "      (bn1): BatchNorm2d(256, eps=1e-05, momentum=0.1, affine=True, track_running_stats=True)\n",
              "      (conv2): Conv2d(256, 256, kernel_size=(3, 3), stride=(2, 2), padding=(1, 1), bias=False)\n",
              "      (bn2): BatchNorm2d(256, eps=1e-05, momentum=0.1, affine=True, track_running_stats=True)\n",
              "      (conv3): Conv2d(256, 1024, kernel_size=(1, 1), stride=(1, 1), bias=False)\n",
              "      (bn3): BatchNorm2d(1024, eps=1e-05, momentum=0.1, affine=True, track_running_stats=True)\n",
              "      (relu): ReLU(inplace=True)\n",
              "      (downsample): Sequential(\n",
              "        (0): Conv2d(512, 1024, kernel_size=(1, 1), stride=(2, 2), bias=False)\n",
              "        (1): BatchNorm2d(1024, eps=1e-05, momentum=0.1, affine=True, track_running_stats=True)\n",
              "      )\n",
              "    )\n",
              "    (1): Bottleneck(\n",
              "      (conv1): Conv2d(1024, 256, kernel_size=(1, 1), stride=(1, 1), bias=False)\n",
              "      (bn1): BatchNorm2d(256, eps=1e-05, momentum=0.1, affine=True, track_running_stats=True)\n",
              "      (conv2): Conv2d(256, 256, kernel_size=(3, 3), stride=(1, 1), padding=(1, 1), bias=False)\n",
              "      (bn2): BatchNorm2d(256, eps=1e-05, momentum=0.1, affine=True, track_running_stats=True)\n",
              "      (conv3): Conv2d(256, 1024, kernel_size=(1, 1), stride=(1, 1), bias=False)\n",
              "      (bn3): BatchNorm2d(1024, eps=1e-05, momentum=0.1, affine=True, track_running_stats=True)\n",
              "      (relu): ReLU(inplace=True)\n",
              "    )\n",
              "    (2): Bottleneck(\n",
              "      (conv1): Conv2d(1024, 256, kernel_size=(1, 1), stride=(1, 1), bias=False)\n",
              "      (bn1): BatchNorm2d(256, eps=1e-05, momentum=0.1, affine=True, track_running_stats=True)\n",
              "      (conv2): Conv2d(256, 256, kernel_size=(3, 3), stride=(1, 1), padding=(1, 1), bias=False)\n",
              "      (bn2): BatchNorm2d(256, eps=1e-05, momentum=0.1, affine=True, track_running_stats=True)\n",
              "      (conv3): Conv2d(256, 1024, kernel_size=(1, 1), stride=(1, 1), bias=False)\n",
              "      (bn3): BatchNorm2d(1024, eps=1e-05, momentum=0.1, affine=True, track_running_stats=True)\n",
              "      (relu): ReLU(inplace=True)\n",
              "    )\n",
              "    (3): Bottleneck(\n",
              "      (conv1): Conv2d(1024, 256, kernel_size=(1, 1), stride=(1, 1), bias=False)\n",
              "      (bn1): BatchNorm2d(256, eps=1e-05, momentum=0.1, affine=True, track_running_stats=True)\n",
              "      (conv2): Conv2d(256, 256, kernel_size=(3, 3), stride=(1, 1), padding=(1, 1), bias=False)\n",
              "      (bn2): BatchNorm2d(256, eps=1e-05, momentum=0.1, affine=True, track_running_stats=True)\n",
              "      (conv3): Conv2d(256, 1024, kernel_size=(1, 1), stride=(1, 1), bias=False)\n",
              "      (bn3): BatchNorm2d(1024, eps=1e-05, momentum=0.1, affine=True, track_running_stats=True)\n",
              "      (relu): ReLU(inplace=True)\n",
              "    )\n",
              "    (4): Bottleneck(\n",
              "      (conv1): Conv2d(1024, 256, kernel_size=(1, 1), stride=(1, 1), bias=False)\n",
              "      (bn1): BatchNorm2d(256, eps=1e-05, momentum=0.1, affine=True, track_running_stats=True)\n",
              "      (conv2): Conv2d(256, 256, kernel_size=(3, 3), stride=(1, 1), padding=(1, 1), bias=False)\n",
              "      (bn2): BatchNorm2d(256, eps=1e-05, momentum=0.1, affine=True, track_running_stats=True)\n",
              "      (conv3): Conv2d(256, 1024, kernel_size=(1, 1), stride=(1, 1), bias=False)\n",
              "      (bn3): BatchNorm2d(1024, eps=1e-05, momentum=0.1, affine=True, track_running_stats=True)\n",
              "      (relu): ReLU(inplace=True)\n",
              "    )\n",
              "    (5): Bottleneck(\n",
              "      (conv1): Conv2d(1024, 256, kernel_size=(1, 1), stride=(1, 1), bias=False)\n",
              "      (bn1): BatchNorm2d(256, eps=1e-05, momentum=0.1, affine=True, track_running_stats=True)\n",
              "      (conv2): Conv2d(256, 256, kernel_size=(3, 3), stride=(1, 1), padding=(1, 1), bias=False)\n",
              "      (bn2): BatchNorm2d(256, eps=1e-05, momentum=0.1, affine=True, track_running_stats=True)\n",
              "      (conv3): Conv2d(256, 1024, kernel_size=(1, 1), stride=(1, 1), bias=False)\n",
              "      (bn3): BatchNorm2d(1024, eps=1e-05, momentum=0.1, affine=True, track_running_stats=True)\n",
              "      (relu): ReLU(inplace=True)\n",
              "    )\n",
              "  )\n",
              "  (layer4): Sequential(\n",
              "    (0): Bottleneck(\n",
              "      (conv1): Conv2d(1024, 512, kernel_size=(1, 1), stride=(1, 1), bias=False)\n",
              "      (bn1): BatchNorm2d(512, eps=1e-05, momentum=0.1, affine=True, track_running_stats=True)\n",
              "      (conv2): Conv2d(512, 512, kernel_size=(3, 3), stride=(2, 2), padding=(1, 1), bias=False)\n",
              "      (bn2): BatchNorm2d(512, eps=1e-05, momentum=0.1, affine=True, track_running_stats=True)\n",
              "      (conv3): Conv2d(512, 2048, kernel_size=(1, 1), stride=(1, 1), bias=False)\n",
              "      (bn3): BatchNorm2d(2048, eps=1e-05, momentum=0.1, affine=True, track_running_stats=True)\n",
              "      (relu): ReLU(inplace=True)\n",
              "      (downsample): Sequential(\n",
              "        (0): Conv2d(1024, 2048, kernel_size=(1, 1), stride=(2, 2), bias=False)\n",
              "        (1): BatchNorm2d(2048, eps=1e-05, momentum=0.1, affine=True, track_running_stats=True)\n",
              "      )\n",
              "    )\n",
              "    (1): Bottleneck(\n",
              "      (conv1): Conv2d(2048, 512, kernel_size=(1, 1), stride=(1, 1), bias=False)\n",
              "      (bn1): BatchNorm2d(512, eps=1e-05, momentum=0.1, affine=True, track_running_stats=True)\n",
              "      (conv2): Conv2d(512, 512, kernel_size=(3, 3), stride=(1, 1), padding=(1, 1), bias=False)\n",
              "      (bn2): BatchNorm2d(512, eps=1e-05, momentum=0.1, affine=True, track_running_stats=True)\n",
              "      (conv3): Conv2d(512, 2048, kernel_size=(1, 1), stride=(1, 1), bias=False)\n",
              "      (bn3): BatchNorm2d(2048, eps=1e-05, momentum=0.1, affine=True, track_running_stats=True)\n",
              "      (relu): ReLU(inplace=True)\n",
              "    )\n",
              "    (2): Bottleneck(\n",
              "      (conv1): Conv2d(2048, 512, kernel_size=(1, 1), stride=(1, 1), bias=False)\n",
              "      (bn1): BatchNorm2d(512, eps=1e-05, momentum=0.1, affine=True, track_running_stats=True)\n",
              "      (conv2): Conv2d(512, 512, kernel_size=(3, 3), stride=(1, 1), padding=(1, 1), bias=False)\n",
              "      (bn2): BatchNorm2d(512, eps=1e-05, momentum=0.1, affine=True, track_running_stats=True)\n",
              "      (conv3): Conv2d(512, 2048, kernel_size=(1, 1), stride=(1, 1), bias=False)\n",
              "      (bn3): BatchNorm2d(2048, eps=1e-05, momentum=0.1, affine=True, track_running_stats=True)\n",
              "      (relu): ReLU(inplace=True)\n",
              "    )\n",
              "  )\n",
              "  (avgpool): AdaptiveAvgPool2d(output_size=(1, 1))\n",
              "  (fc): Linear(in_features=2048, out_features=10, bias=True)\n",
              ")"
            ]
          },
          "metadata": {
            "tags": []
          },
          "execution_count": 12
        }
      ]
    },
    {
      "cell_type": "code",
      "metadata": {
        "id": "xEKHt2zjiIZ3",
        "colab_type": "code",
        "colab": {}
      },
      "source": [
        "import torch.optim as optim\n",
        "\n",
        "criterion_transfer = nn.CrossEntropyLoss()\n",
        "optimizer_transfer = optim.SGD(model_transfer.fc.parameters(), lr=0.001)"
      ],
      "execution_count": null,
      "outputs": []
    },
    {
      "cell_type": "code",
      "metadata": {
        "id": "ru-zLVLwiNfn",
        "colab_type": "code",
        "colab": {}
      },
      "source": [
        "def train(n_epochs, loaders, model, optimizer, criterion, use_cuda, save_path):\n",
        "    \"\"\"returns trained model\"\"\"\n",
        "    # initialize tracker for minimum validation loss\n",
        "    valid_loss_min = np.Inf\n",
        "    \n",
        "    for epoch in range(1, n_epochs+1):\n",
        "        # initialize variables to monitor training and validation loss\n",
        "        train_loss = 0.0\n",
        "        valid_loss = 0.0\n",
        "        \n",
        "        ###################\n",
        "        # train the model #\n",
        "        ###################\n",
        "        model.train()\n",
        "        for batch_idx, (data, target) in enumerate(loaders['train']):\n",
        "            # move to GPU\n",
        "            if use_cuda:\n",
        "                data, target = data.cuda(), target.cuda()\n",
        "\n",
        "            # initialize weights to zero\n",
        "            optimizer.zero_grad()\n",
        "            \n",
        "            output = model(data)\n",
        "            \n",
        "            # calculate loss\n",
        "            loss = criterion(output, target)\n",
        "            \n",
        "            # back prop\n",
        "            loss.backward()\n",
        "            \n",
        "            # grad\n",
        "            optimizer.step()\n",
        "            \n",
        "            train_loss = train_loss + ((1 / (batch_idx + 1)) * (loss.data - train_loss))\n",
        "            \n",
        "            if batch_idx % 100 == 0:\n",
        "                print('Epoch %d, Batch %d loss: %.6f' %\n",
        "                  (epoch, batch_idx + 1, train_loss))\n",
        "        \n",
        "        ######################    \n",
        "        # validate the model #\n",
        "        ######################\n",
        "        model.eval()\n",
        "        for batch_idx, (data, target) in enumerate(loaders['valid']):\n",
        "            # move to GPU\n",
        "            if use_cuda:\n",
        "                data, target = data.cuda(), target.cuda()\n",
        "            ## update the average validation loss\n",
        "            output = model(data)\n",
        "            loss = criterion(output, target)\n",
        "            valid_loss = valid_loss + ((1 / (batch_idx + 1)) * (loss.data - valid_loss))\n",
        "\n",
        "            \n",
        "        # print training/validation statistics \n",
        "        print('Epoch: {} \\tTraining Loss: {:.6f} \\tValidation Loss: {:.6f}'.format(\n",
        "            epoch, \n",
        "            train_loss,\n",
        "            valid_loss\n",
        "            ))\n",
        "        \n",
        "        ## TODO: save the model if validation loss has decreased\n",
        "        if valid_loss < valid_loss_min:\n",
        "            torch.save(model.state_dict(), save_path)\n",
        "            print('Validation loss decreased ({:.6f} --> {:.6f}).  Saving model ...'.format(\n",
        "            valid_loss_min,\n",
        "            valid_loss))\n",
        "            valid_loss_min = valid_loss\n",
        "            \n",
        "    # return trained model\n",
        "    return model"
      ],
      "execution_count": null,
      "outputs": []
    },
    {
      "cell_type": "code",
      "metadata": {
        "id": "WtrIQg0tiYVO",
        "colab_type": "code",
        "colab": {}
      },
      "source": [
        "loaders_transfer = loaders_scratch.copy()"
      ],
      "execution_count": null,
      "outputs": []
    },
    {
      "cell_type": "code",
      "metadata": {
        "id": "J15nMM6Hi1sB",
        "colab_type": "code",
        "colab": {
          "base_uri": "https://localhost:8080/",
          "height": 1000
        },
        "outputId": "f38d0d2f-c575-40d9-f247-f59420884dc9"
      },
      "source": [
        "\n",
        "train(100, loaders_transfer, model_transfer, optimizer_transfer, criterion_transfer, use_cuda, 'model_transfer.pt')"
      ],
      "execution_count": null,
      "outputs": [
        {
          "output_type": "stream",
          "text": [
            "Epoch 1, Batch 1 loss: 1.795631\n",
            "Epoch: 1 \tTraining Loss: 1.658092 \tValidation Loss: 1.365466\n",
            "Validation loss decreased (inf --> 1.365466).  Saving model ...\n",
            "Epoch 2, Batch 1 loss: 1.648907\n",
            "Epoch: 2 \tTraining Loss: 1.646188 \tValidation Loss: 1.341381\n",
            "Validation loss decreased (1.365466 --> 1.341381).  Saving model ...\n",
            "Epoch 3, Batch 1 loss: 1.414832\n",
            "Epoch: 3 \tTraining Loss: 1.613945 \tValidation Loss: 1.342279\n",
            "Epoch 4, Batch 1 loss: 1.604194\n",
            "Epoch: 4 \tTraining Loss: 1.619187 \tValidation Loss: 1.331010\n",
            "Validation loss decreased (1.341381 --> 1.331010).  Saving model ...\n",
            "Epoch 5, Batch 1 loss: 1.674783\n",
            "Epoch: 5 \tTraining Loss: 1.587051 \tValidation Loss: 1.344856\n",
            "Epoch 6, Batch 1 loss: 1.454812\n",
            "Epoch: 6 \tTraining Loss: 1.568462 \tValidation Loss: 1.298845\n",
            "Validation loss decreased (1.331010 --> 1.298845).  Saving model ...\n",
            "Epoch 7, Batch 1 loss: 1.407237\n",
            "Epoch: 7 \tTraining Loss: 1.592298 \tValidation Loss: 1.299482\n",
            "Epoch 8, Batch 1 loss: 2.017539\n",
            "Epoch: 8 \tTraining Loss: 1.564122 \tValidation Loss: 1.267051\n",
            "Validation loss decreased (1.298845 --> 1.267051).  Saving model ...\n",
            "Epoch 9, Batch 1 loss: 1.403945\n",
            "Epoch: 9 \tTraining Loss: 1.546499 \tValidation Loss: 1.264866\n",
            "Validation loss decreased (1.267051 --> 1.264866).  Saving model ...\n",
            "Epoch 10, Batch 1 loss: 1.537959\n",
            "Epoch: 10 \tTraining Loss: 1.553943 \tValidation Loss: 1.254978\n",
            "Validation loss decreased (1.264866 --> 1.254978).  Saving model ...\n",
            "Epoch 11, Batch 1 loss: 1.641279\n",
            "Epoch: 11 \tTraining Loss: 1.532754 \tValidation Loss: 1.236080\n",
            "Validation loss decreased (1.254978 --> 1.236080).  Saving model ...\n",
            "Epoch 12, Batch 1 loss: 1.501450\n",
            "Epoch: 12 \tTraining Loss: 1.513323 \tValidation Loss: 1.251433\n",
            "Epoch 13, Batch 1 loss: 1.517606\n",
            "Epoch: 13 \tTraining Loss: 1.526932 \tValidation Loss: 1.220693\n",
            "Validation loss decreased (1.236080 --> 1.220693).  Saving model ...\n",
            "Epoch 14, Batch 1 loss: 1.565001\n",
            "Epoch: 14 \tTraining Loss: 1.537917 \tValidation Loss: 1.226886\n",
            "Epoch 15, Batch 1 loss: 1.410272\n",
            "Epoch: 15 \tTraining Loss: 1.502743 \tValidation Loss: 1.196839\n",
            "Validation loss decreased (1.220693 --> 1.196839).  Saving model ...\n",
            "Epoch 16, Batch 1 loss: 1.252215\n",
            "Epoch: 16 \tTraining Loss: 1.504864 \tValidation Loss: 1.201902\n",
            "Epoch 17, Batch 1 loss: 1.163077\n",
            "Epoch: 17 \tTraining Loss: 1.501692 \tValidation Loss: 1.184168\n",
            "Validation loss decreased (1.196839 --> 1.184168).  Saving model ...\n",
            "Epoch 18, Batch 1 loss: 1.577445\n",
            "Epoch: 18 \tTraining Loss: 1.462140 \tValidation Loss: 1.174587\n",
            "Validation loss decreased (1.184168 --> 1.174587).  Saving model ...\n",
            "Epoch 19, Batch 1 loss: 1.232301\n",
            "Epoch: 19 \tTraining Loss: 1.445022 \tValidation Loss: 1.189826\n",
            "Epoch 20, Batch 1 loss: 1.184737\n",
            "Epoch: 20 \tTraining Loss: 1.528903 \tValidation Loss: 1.174200\n",
            "Validation loss decreased (1.174587 --> 1.174200).  Saving model ...\n",
            "Epoch 21, Batch 1 loss: 1.409851\n",
            "Epoch: 21 \tTraining Loss: 1.481486 \tValidation Loss: 1.142921\n",
            "Validation loss decreased (1.174200 --> 1.142921).  Saving model ...\n",
            "Epoch 22, Batch 1 loss: 1.207521\n",
            "Epoch: 22 \tTraining Loss: 1.476971 \tValidation Loss: 1.146431\n",
            "Epoch 23, Batch 1 loss: 1.232515\n",
            "Epoch: 23 \tTraining Loss: 1.458957 \tValidation Loss: 1.129025\n",
            "Validation loss decreased (1.142921 --> 1.129025).  Saving model ...\n",
            "Epoch 24, Batch 1 loss: 1.796333\n",
            "Epoch: 24 \tTraining Loss: 1.455869 \tValidation Loss: 1.128765\n",
            "Validation loss decreased (1.129025 --> 1.128765).  Saving model ...\n",
            "Epoch 25, Batch 1 loss: 1.041907\n",
            "Epoch: 25 \tTraining Loss: 1.443366 \tValidation Loss: 1.153755\n",
            "Epoch 26, Batch 1 loss: 1.583990\n",
            "Epoch: 26 \tTraining Loss: 1.447231 \tValidation Loss: 1.117736\n",
            "Validation loss decreased (1.128765 --> 1.117736).  Saving model ...\n",
            "Epoch 27, Batch 1 loss: 1.561654\n",
            "Epoch: 27 \tTraining Loss: 1.424354 \tValidation Loss: 1.106507\n",
            "Validation loss decreased (1.117736 --> 1.106507).  Saving model ...\n",
            "Epoch 28, Batch 1 loss: 1.489826\n",
            "Epoch: 28 \tTraining Loss: 1.478061 \tValidation Loss: 1.106127\n",
            "Validation loss decreased (1.106507 --> 1.106127).  Saving model ...\n",
            "Epoch 29, Batch 1 loss: 1.407345\n",
            "Epoch: 29 \tTraining Loss: 1.436737 \tValidation Loss: 1.108430\n",
            "Epoch 30, Batch 1 loss: 1.568957\n",
            "Epoch: 30 \tTraining Loss: 1.411202 \tValidation Loss: 1.109924\n",
            "Epoch 31, Batch 1 loss: 1.809140\n",
            "Epoch: 31 \tTraining Loss: 1.407458 \tValidation Loss: 1.089388\n",
            "Validation loss decreased (1.106127 --> 1.089388).  Saving model ...\n",
            "Epoch 32, Batch 1 loss: 1.307302\n",
            "Epoch: 32 \tTraining Loss: 1.412636 \tValidation Loss: 1.089281\n",
            "Validation loss decreased (1.089388 --> 1.089281).  Saving model ...\n",
            "Epoch 33, Batch 1 loss: 1.203506\n",
            "Epoch: 33 \tTraining Loss: 1.399518 \tValidation Loss: 1.080759\n",
            "Validation loss decreased (1.089281 --> 1.080759).  Saving model ...\n",
            "Epoch 34, Batch 1 loss: 1.276860\n",
            "Epoch: 34 \tTraining Loss: 1.378404 \tValidation Loss: 1.086148\n",
            "Epoch 35, Batch 1 loss: 1.272711\n",
            "Epoch: 35 \tTraining Loss: 1.380978 \tValidation Loss: 1.089638\n",
            "Epoch 36, Batch 1 loss: 1.364135\n",
            "Epoch: 36 \tTraining Loss: 1.406222 \tValidation Loss: 1.071866\n",
            "Validation loss decreased (1.080759 --> 1.071866).  Saving model ...\n",
            "Epoch 37, Batch 1 loss: 1.516815\n",
            "Epoch: 37 \tTraining Loss: 1.377653 \tValidation Loss: 1.061219\n",
            "Validation loss decreased (1.071866 --> 1.061219).  Saving model ...\n",
            "Epoch 38, Batch 1 loss: 1.122788\n",
            "Epoch: 38 \tTraining Loss: 1.362630 \tValidation Loss: 1.055284\n",
            "Validation loss decreased (1.061219 --> 1.055284).  Saving model ...\n",
            "Epoch 39, Batch 1 loss: 1.073611\n",
            "Epoch: 39 \tTraining Loss: 1.355618 \tValidation Loss: 1.058038\n",
            "Epoch 40, Batch 1 loss: 1.436133\n",
            "Epoch: 40 \tTraining Loss: 1.390449 \tValidation Loss: 1.058973\n",
            "Epoch 41, Batch 1 loss: 1.638904\n",
            "Epoch: 41 \tTraining Loss: 1.373649 \tValidation Loss: 1.060402\n",
            "Epoch 42, Batch 1 loss: 1.561190\n",
            "Epoch: 42 \tTraining Loss: 1.363222 \tValidation Loss: 1.023353\n",
            "Validation loss decreased (1.055284 --> 1.023353).  Saving model ...\n",
            "Epoch 43, Batch 1 loss: 1.583400\n",
            "Epoch: 43 \tTraining Loss: 1.344261 \tValidation Loss: 1.029131\n",
            "Epoch 44, Batch 1 loss: 1.416144\n",
            "Epoch: 44 \tTraining Loss: 1.356876 \tValidation Loss: 1.033996\n",
            "Epoch 45, Batch 1 loss: 1.259746\n",
            "Epoch: 45 \tTraining Loss: 1.352295 \tValidation Loss: 1.026459\n",
            "Epoch 46, Batch 1 loss: 0.998633\n",
            "Epoch: 46 \tTraining Loss: 1.309356 \tValidation Loss: 1.014001\n",
            "Validation loss decreased (1.023353 --> 1.014001).  Saving model ...\n",
            "Epoch 47, Batch 1 loss: 1.265561\n",
            "Epoch: 47 \tTraining Loss: 1.330732 \tValidation Loss: 1.025998\n",
            "Epoch 48, Batch 1 loss: 1.489896\n",
            "Epoch: 48 \tTraining Loss: 1.294757 \tValidation Loss: 1.024957\n",
            "Epoch 49, Batch 1 loss: 0.944006\n",
            "Epoch: 49 \tTraining Loss: 1.294608 \tValidation Loss: 1.027389\n",
            "Epoch 50, Batch 1 loss: 1.331999\n",
            "Epoch: 50 \tTraining Loss: 1.297375 \tValidation Loss: 1.002151\n",
            "Validation loss decreased (1.014001 --> 1.002151).  Saving model ...\n",
            "Epoch 51, Batch 1 loss: 1.419905\n",
            "Epoch: 51 \tTraining Loss: 1.312882 \tValidation Loss: 1.005528\n",
            "Epoch 52, Batch 1 loss: 1.554402\n",
            "Epoch: 52 \tTraining Loss: 1.324194 \tValidation Loss: 1.020663\n",
            "Epoch 53, Batch 1 loss: 1.197925\n",
            "Epoch: 53 \tTraining Loss: 1.304370 \tValidation Loss: 0.999508\n",
            "Validation loss decreased (1.002151 --> 0.999508).  Saving model ...\n",
            "Epoch 54, Batch 1 loss: 1.162485\n",
            "Epoch: 54 \tTraining Loss: 1.294619 \tValidation Loss: 1.010828\n",
            "Epoch 55, Batch 1 loss: 0.984941\n",
            "Epoch: 55 \tTraining Loss: 1.310334 \tValidation Loss: 0.975841\n",
            "Validation loss decreased (0.999508 --> 0.975841).  Saving model ...\n",
            "Epoch 56, Batch 1 loss: 1.221909\n",
            "Epoch: 56 \tTraining Loss: 1.315814 \tValidation Loss: 0.965774\n",
            "Validation loss decreased (0.975841 --> 0.965774).  Saving model ...\n",
            "Epoch 57, Batch 1 loss: 1.040020\n",
            "Epoch: 57 \tTraining Loss: 1.289162 \tValidation Loss: 0.991797\n",
            "Epoch 58, Batch 1 loss: 1.246788\n",
            "Epoch: 58 \tTraining Loss: 1.337774 \tValidation Loss: 1.003029\n",
            "Epoch 59, Batch 1 loss: 1.104362\n",
            "Epoch: 59 \tTraining Loss: 1.304239 \tValidation Loss: 0.996116\n",
            "Epoch 60, Batch 1 loss: 1.131917\n",
            "Epoch: 60 \tTraining Loss: 1.279359 \tValidation Loss: 0.988653\n",
            "Epoch 61, Batch 1 loss: 1.155056\n",
            "Epoch: 61 \tTraining Loss: 1.258468 \tValidation Loss: 0.977913\n",
            "Epoch 62, Batch 1 loss: 1.690805\n",
            "Epoch: 62 \tTraining Loss: 1.293133 \tValidation Loss: 0.967006\n",
            "Epoch 63, Batch 1 loss: 1.611265\n",
            "Epoch: 63 \tTraining Loss: 1.278000 \tValidation Loss: 0.956004\n",
            "Validation loss decreased (0.965774 --> 0.956004).  Saving model ...\n",
            "Epoch 64, Batch 1 loss: 1.030142\n",
            "Epoch: 64 \tTraining Loss: 1.303603 \tValidation Loss: 0.971491\n",
            "Epoch 65, Batch 1 loss: 1.120517\n",
            "Epoch: 65 \tTraining Loss: 1.290063 \tValidation Loss: 0.945412\n",
            "Validation loss decreased (0.956004 --> 0.945412).  Saving model ...\n",
            "Epoch 66, Batch 1 loss: 1.788499\n",
            "Epoch: 66 \tTraining Loss: 1.270557 \tValidation Loss: 0.971573\n",
            "Epoch 67, Batch 1 loss: 1.747826\n",
            "Epoch: 67 \tTraining Loss: 1.247056 \tValidation Loss: 0.953541\n",
            "Epoch 68, Batch 1 loss: 1.039162\n",
            "Epoch: 68 \tTraining Loss: 1.262668 \tValidation Loss: 0.960066\n",
            "Epoch 69, Batch 1 loss: 1.629273\n",
            "Epoch: 69 \tTraining Loss: 1.255261 \tValidation Loss: 0.957172\n",
            "Epoch 70, Batch 1 loss: 1.477067\n",
            "Epoch: 70 \tTraining Loss: 1.255756 \tValidation Loss: 0.946710\n",
            "Epoch 71, Batch 1 loss: 1.271515\n",
            "Epoch: 71 \tTraining Loss: 1.268588 \tValidation Loss: 0.943421\n",
            "Validation loss decreased (0.945412 --> 0.943421).  Saving model ...\n",
            "Epoch 72, Batch 1 loss: 1.518444\n",
            "Epoch: 72 \tTraining Loss: 1.210405 \tValidation Loss: 0.957146\n",
            "Epoch 73, Batch 1 loss: 1.497149\n",
            "Epoch: 73 \tTraining Loss: 1.257191 \tValidation Loss: 0.953828\n",
            "Epoch 74, Batch 1 loss: 1.161906\n",
            "Epoch: 74 \tTraining Loss: 1.221719 \tValidation Loss: 0.932587\n",
            "Validation loss decreased (0.943421 --> 0.932587).  Saving model ...\n",
            "Epoch 75, Batch 1 loss: 1.329201\n",
            "Epoch: 75 \tTraining Loss: 1.257921 \tValidation Loss: 0.935150\n",
            "Epoch 76, Batch 1 loss: 1.387888\n",
            "Epoch: 76 \tTraining Loss: 1.259242 \tValidation Loss: 0.946639\n",
            "Epoch 77, Batch 1 loss: 1.512443\n",
            "Epoch: 77 \tTraining Loss: 1.281874 \tValidation Loss: 0.931842\n",
            "Validation loss decreased (0.932587 --> 0.931842).  Saving model ...\n",
            "Epoch 78, Batch 1 loss: 1.171042\n",
            "Epoch: 78 \tTraining Loss: 1.216547 \tValidation Loss: 0.961384\n",
            "Epoch 79, Batch 1 loss: 1.117314\n",
            "Epoch: 79 \tTraining Loss: 1.224490 \tValidation Loss: 0.898653\n",
            "Validation loss decreased (0.931842 --> 0.898653).  Saving model ...\n",
            "Epoch 80, Batch 1 loss: 1.299544\n",
            "Epoch: 80 \tTraining Loss: 1.262461 \tValidation Loss: 0.905487\n",
            "Epoch 81, Batch 1 loss: 0.887265\n",
            "Epoch: 81 \tTraining Loss: 1.238855 \tValidation Loss: 0.905823\n",
            "Epoch 82, Batch 1 loss: 1.081133\n",
            "Epoch: 82 \tTraining Loss: 1.210701 \tValidation Loss: 0.917701\n",
            "Epoch 83, Batch 1 loss: 1.099598\n",
            "Epoch: 83 \tTraining Loss: 1.165122 \tValidation Loss: 0.927853\n",
            "Epoch 84, Batch 1 loss: 0.962081\n",
            "Epoch: 84 \tTraining Loss: 1.217160 \tValidation Loss: 0.903134\n",
            "Epoch 85, Batch 1 loss: 1.397746\n",
            "Epoch: 85 \tTraining Loss: 1.205300 \tValidation Loss: 0.922295\n",
            "Epoch 86, Batch 1 loss: 1.267090\n",
            "Epoch: 86 \tTraining Loss: 1.230880 \tValidation Loss: 0.909561\n",
            "Epoch 87, Batch 1 loss: 1.587825\n",
            "Epoch: 87 \tTraining Loss: 1.221761 \tValidation Loss: 0.914914\n",
            "Epoch 88, Batch 1 loss: 1.129672\n",
            "Epoch: 88 \tTraining Loss: 1.246154 \tValidation Loss: 0.913160\n",
            "Epoch 89, Batch 1 loss: 0.955064\n",
            "Epoch: 89 \tTraining Loss: 1.222072 \tValidation Loss: 0.911758\n",
            "Epoch 90, Batch 1 loss: 1.424946\n",
            "Epoch: 90 \tTraining Loss: 1.248438 \tValidation Loss: 0.900293\n",
            "Epoch 91, Batch 1 loss: 0.930344\n",
            "Epoch: 91 \tTraining Loss: 1.218664 \tValidation Loss: 0.904644\n",
            "Epoch 92, Batch 1 loss: 1.031674\n",
            "Epoch: 92 \tTraining Loss: 1.244831 \tValidation Loss: 0.900824\n",
            "Epoch 93, Batch 1 loss: 1.332133\n",
            "Epoch: 93 \tTraining Loss: 1.176229 \tValidation Loss: 0.903380\n",
            "Epoch 94, Batch 1 loss: 1.605253\n",
            "Epoch: 94 \tTraining Loss: 1.216884 \tValidation Loss: 0.891879\n",
            "Validation loss decreased (0.898653 --> 0.891879).  Saving model ...\n",
            "Epoch 95, Batch 1 loss: 1.398472\n",
            "Epoch: 95 \tTraining Loss: 1.195084 \tValidation Loss: 0.892583\n",
            "Epoch 96, Batch 1 loss: 1.165684\n",
            "Epoch: 96 \tTraining Loss: 1.230664 \tValidation Loss: 0.867026\n",
            "Validation loss decreased (0.891879 --> 0.867026).  Saving model ...\n",
            "Epoch 97, Batch 1 loss: 1.502896\n",
            "Epoch: 97 \tTraining Loss: 1.223070 \tValidation Loss: 0.894242\n",
            "Epoch 98, Batch 1 loss: 0.793459\n",
            "Epoch: 98 \tTraining Loss: 1.201060 \tValidation Loss: 0.883537\n",
            "Epoch 99, Batch 1 loss: 1.221289\n",
            "Epoch: 99 \tTraining Loss: 1.194614 \tValidation Loss: 0.903505\n",
            "Epoch 100, Batch 1 loss: 1.522308\n",
            "Epoch: 100 \tTraining Loss: 1.183832 \tValidation Loss: 0.867088\n"
          ],
          "name": "stdout"
        },
        {
          "output_type": "execute_result",
          "data": {
            "text/plain": [
              "ResNet(\n",
              "  (conv1): Conv2d(3, 64, kernel_size=(7, 7), stride=(2, 2), padding=(3, 3), bias=False)\n",
              "  (bn1): BatchNorm2d(64, eps=1e-05, momentum=0.1, affine=True, track_running_stats=True)\n",
              "  (relu): ReLU(inplace=True)\n",
              "  (maxpool): MaxPool2d(kernel_size=3, stride=2, padding=1, dilation=1, ceil_mode=False)\n",
              "  (layer1): Sequential(\n",
              "    (0): Bottleneck(\n",
              "      (conv1): Conv2d(64, 64, kernel_size=(1, 1), stride=(1, 1), bias=False)\n",
              "      (bn1): BatchNorm2d(64, eps=1e-05, momentum=0.1, affine=True, track_running_stats=True)\n",
              "      (conv2): Conv2d(64, 64, kernel_size=(3, 3), stride=(1, 1), padding=(1, 1), bias=False)\n",
              "      (bn2): BatchNorm2d(64, eps=1e-05, momentum=0.1, affine=True, track_running_stats=True)\n",
              "      (conv3): Conv2d(64, 256, kernel_size=(1, 1), stride=(1, 1), bias=False)\n",
              "      (bn3): BatchNorm2d(256, eps=1e-05, momentum=0.1, affine=True, track_running_stats=True)\n",
              "      (relu): ReLU(inplace=True)\n",
              "      (downsample): Sequential(\n",
              "        (0): Conv2d(64, 256, kernel_size=(1, 1), stride=(1, 1), bias=False)\n",
              "        (1): BatchNorm2d(256, eps=1e-05, momentum=0.1, affine=True, track_running_stats=True)\n",
              "      )\n",
              "    )\n",
              "    (1): Bottleneck(\n",
              "      (conv1): Conv2d(256, 64, kernel_size=(1, 1), stride=(1, 1), bias=False)\n",
              "      (bn1): BatchNorm2d(64, eps=1e-05, momentum=0.1, affine=True, track_running_stats=True)\n",
              "      (conv2): Conv2d(64, 64, kernel_size=(3, 3), stride=(1, 1), padding=(1, 1), bias=False)\n",
              "      (bn2): BatchNorm2d(64, eps=1e-05, momentum=0.1, affine=True, track_running_stats=True)\n",
              "      (conv3): Conv2d(64, 256, kernel_size=(1, 1), stride=(1, 1), bias=False)\n",
              "      (bn3): BatchNorm2d(256, eps=1e-05, momentum=0.1, affine=True, track_running_stats=True)\n",
              "      (relu): ReLU(inplace=True)\n",
              "    )\n",
              "    (2): Bottleneck(\n",
              "      (conv1): Conv2d(256, 64, kernel_size=(1, 1), stride=(1, 1), bias=False)\n",
              "      (bn1): BatchNorm2d(64, eps=1e-05, momentum=0.1, affine=True, track_running_stats=True)\n",
              "      (conv2): Conv2d(64, 64, kernel_size=(3, 3), stride=(1, 1), padding=(1, 1), bias=False)\n",
              "      (bn2): BatchNorm2d(64, eps=1e-05, momentum=0.1, affine=True, track_running_stats=True)\n",
              "      (conv3): Conv2d(64, 256, kernel_size=(1, 1), stride=(1, 1), bias=False)\n",
              "      (bn3): BatchNorm2d(256, eps=1e-05, momentum=0.1, affine=True, track_running_stats=True)\n",
              "      (relu): ReLU(inplace=True)\n",
              "    )\n",
              "  )\n",
              "  (layer2): Sequential(\n",
              "    (0): Bottleneck(\n",
              "      (conv1): Conv2d(256, 128, kernel_size=(1, 1), stride=(1, 1), bias=False)\n",
              "      (bn1): BatchNorm2d(128, eps=1e-05, momentum=0.1, affine=True, track_running_stats=True)\n",
              "      (conv2): Conv2d(128, 128, kernel_size=(3, 3), stride=(2, 2), padding=(1, 1), bias=False)\n",
              "      (bn2): BatchNorm2d(128, eps=1e-05, momentum=0.1, affine=True, track_running_stats=True)\n",
              "      (conv3): Conv2d(128, 512, kernel_size=(1, 1), stride=(1, 1), bias=False)\n",
              "      (bn3): BatchNorm2d(512, eps=1e-05, momentum=0.1, affine=True, track_running_stats=True)\n",
              "      (relu): ReLU(inplace=True)\n",
              "      (downsample): Sequential(\n",
              "        (0): Conv2d(256, 512, kernel_size=(1, 1), stride=(2, 2), bias=False)\n",
              "        (1): BatchNorm2d(512, eps=1e-05, momentum=0.1, affine=True, track_running_stats=True)\n",
              "      )\n",
              "    )\n",
              "    (1): Bottleneck(\n",
              "      (conv1): Conv2d(512, 128, kernel_size=(1, 1), stride=(1, 1), bias=False)\n",
              "      (bn1): BatchNorm2d(128, eps=1e-05, momentum=0.1, affine=True, track_running_stats=True)\n",
              "      (conv2): Conv2d(128, 128, kernel_size=(3, 3), stride=(1, 1), padding=(1, 1), bias=False)\n",
              "      (bn2): BatchNorm2d(128, eps=1e-05, momentum=0.1, affine=True, track_running_stats=True)\n",
              "      (conv3): Conv2d(128, 512, kernel_size=(1, 1), stride=(1, 1), bias=False)\n",
              "      (bn3): BatchNorm2d(512, eps=1e-05, momentum=0.1, affine=True, track_running_stats=True)\n",
              "      (relu): ReLU(inplace=True)\n",
              "    )\n",
              "    (2): Bottleneck(\n",
              "      (conv1): Conv2d(512, 128, kernel_size=(1, 1), stride=(1, 1), bias=False)\n",
              "      (bn1): BatchNorm2d(128, eps=1e-05, momentum=0.1, affine=True, track_running_stats=True)\n",
              "      (conv2): Conv2d(128, 128, kernel_size=(3, 3), stride=(1, 1), padding=(1, 1), bias=False)\n",
              "      (bn2): BatchNorm2d(128, eps=1e-05, momentum=0.1, affine=True, track_running_stats=True)\n",
              "      (conv3): Conv2d(128, 512, kernel_size=(1, 1), stride=(1, 1), bias=False)\n",
              "      (bn3): BatchNorm2d(512, eps=1e-05, momentum=0.1, affine=True, track_running_stats=True)\n",
              "      (relu): ReLU(inplace=True)\n",
              "    )\n",
              "    (3): Bottleneck(\n",
              "      (conv1): Conv2d(512, 128, kernel_size=(1, 1), stride=(1, 1), bias=False)\n",
              "      (bn1): BatchNorm2d(128, eps=1e-05, momentum=0.1, affine=True, track_running_stats=True)\n",
              "      (conv2): Conv2d(128, 128, kernel_size=(3, 3), stride=(1, 1), padding=(1, 1), bias=False)\n",
              "      (bn2): BatchNorm2d(128, eps=1e-05, momentum=0.1, affine=True, track_running_stats=True)\n",
              "      (conv3): Conv2d(128, 512, kernel_size=(1, 1), stride=(1, 1), bias=False)\n",
              "      (bn3): BatchNorm2d(512, eps=1e-05, momentum=0.1, affine=True, track_running_stats=True)\n",
              "      (relu): ReLU(inplace=True)\n",
              "    )\n",
              "  )\n",
              "  (layer3): Sequential(\n",
              "    (0): Bottleneck(\n",
              "      (conv1): Conv2d(512, 256, kernel_size=(1, 1), stride=(1, 1), bias=False)\n",
              "      (bn1): BatchNorm2d(256, eps=1e-05, momentum=0.1, affine=True, track_running_stats=True)\n",
              "      (conv2): Conv2d(256, 256, kernel_size=(3, 3), stride=(2, 2), padding=(1, 1), bias=False)\n",
              "      (bn2): BatchNorm2d(256, eps=1e-05, momentum=0.1, affine=True, track_running_stats=True)\n",
              "      (conv3): Conv2d(256, 1024, kernel_size=(1, 1), stride=(1, 1), bias=False)\n",
              "      (bn3): BatchNorm2d(1024, eps=1e-05, momentum=0.1, affine=True, track_running_stats=True)\n",
              "      (relu): ReLU(inplace=True)\n",
              "      (downsample): Sequential(\n",
              "        (0): Conv2d(512, 1024, kernel_size=(1, 1), stride=(2, 2), bias=False)\n",
              "        (1): BatchNorm2d(1024, eps=1e-05, momentum=0.1, affine=True, track_running_stats=True)\n",
              "      )\n",
              "    )\n",
              "    (1): Bottleneck(\n",
              "      (conv1): Conv2d(1024, 256, kernel_size=(1, 1), stride=(1, 1), bias=False)\n",
              "      (bn1): BatchNorm2d(256, eps=1e-05, momentum=0.1, affine=True, track_running_stats=True)\n",
              "      (conv2): Conv2d(256, 256, kernel_size=(3, 3), stride=(1, 1), padding=(1, 1), bias=False)\n",
              "      (bn2): BatchNorm2d(256, eps=1e-05, momentum=0.1, affine=True, track_running_stats=True)\n",
              "      (conv3): Conv2d(256, 1024, kernel_size=(1, 1), stride=(1, 1), bias=False)\n",
              "      (bn3): BatchNorm2d(1024, eps=1e-05, momentum=0.1, affine=True, track_running_stats=True)\n",
              "      (relu): ReLU(inplace=True)\n",
              "    )\n",
              "    (2): Bottleneck(\n",
              "      (conv1): Conv2d(1024, 256, kernel_size=(1, 1), stride=(1, 1), bias=False)\n",
              "      (bn1): BatchNorm2d(256, eps=1e-05, momentum=0.1, affine=True, track_running_stats=True)\n",
              "      (conv2): Conv2d(256, 256, kernel_size=(3, 3), stride=(1, 1), padding=(1, 1), bias=False)\n",
              "      (bn2): BatchNorm2d(256, eps=1e-05, momentum=0.1, affine=True, track_running_stats=True)\n",
              "      (conv3): Conv2d(256, 1024, kernel_size=(1, 1), stride=(1, 1), bias=False)\n",
              "      (bn3): BatchNorm2d(1024, eps=1e-05, momentum=0.1, affine=True, track_running_stats=True)\n",
              "      (relu): ReLU(inplace=True)\n",
              "    )\n",
              "    (3): Bottleneck(\n",
              "      (conv1): Conv2d(1024, 256, kernel_size=(1, 1), stride=(1, 1), bias=False)\n",
              "      (bn1): BatchNorm2d(256, eps=1e-05, momentum=0.1, affine=True, track_running_stats=True)\n",
              "      (conv2): Conv2d(256, 256, kernel_size=(3, 3), stride=(1, 1), padding=(1, 1), bias=False)\n",
              "      (bn2): BatchNorm2d(256, eps=1e-05, momentum=0.1, affine=True, track_running_stats=True)\n",
              "      (conv3): Conv2d(256, 1024, kernel_size=(1, 1), stride=(1, 1), bias=False)\n",
              "      (bn3): BatchNorm2d(1024, eps=1e-05, momentum=0.1, affine=True, track_running_stats=True)\n",
              "      (relu): ReLU(inplace=True)\n",
              "    )\n",
              "    (4): Bottleneck(\n",
              "      (conv1): Conv2d(1024, 256, kernel_size=(1, 1), stride=(1, 1), bias=False)\n",
              "      (bn1): BatchNorm2d(256, eps=1e-05, momentum=0.1, affine=True, track_running_stats=True)\n",
              "      (conv2): Conv2d(256, 256, kernel_size=(3, 3), stride=(1, 1), padding=(1, 1), bias=False)\n",
              "      (bn2): BatchNorm2d(256, eps=1e-05, momentum=0.1, affine=True, track_running_stats=True)\n",
              "      (conv3): Conv2d(256, 1024, kernel_size=(1, 1), stride=(1, 1), bias=False)\n",
              "      (bn3): BatchNorm2d(1024, eps=1e-05, momentum=0.1, affine=True, track_running_stats=True)\n",
              "      (relu): ReLU(inplace=True)\n",
              "    )\n",
              "    (5): Bottleneck(\n",
              "      (conv1): Conv2d(1024, 256, kernel_size=(1, 1), stride=(1, 1), bias=False)\n",
              "      (bn1): BatchNorm2d(256, eps=1e-05, momentum=0.1, affine=True, track_running_stats=True)\n",
              "      (conv2): Conv2d(256, 256, kernel_size=(3, 3), stride=(1, 1), padding=(1, 1), bias=False)\n",
              "      (bn2): BatchNorm2d(256, eps=1e-05, momentum=0.1, affine=True, track_running_stats=True)\n",
              "      (conv3): Conv2d(256, 1024, kernel_size=(1, 1), stride=(1, 1), bias=False)\n",
              "      (bn3): BatchNorm2d(1024, eps=1e-05, momentum=0.1, affine=True, track_running_stats=True)\n",
              "      (relu): ReLU(inplace=True)\n",
              "    )\n",
              "  )\n",
              "  (layer4): Sequential(\n",
              "    (0): Bottleneck(\n",
              "      (conv1): Conv2d(1024, 512, kernel_size=(1, 1), stride=(1, 1), bias=False)\n",
              "      (bn1): BatchNorm2d(512, eps=1e-05, momentum=0.1, affine=True, track_running_stats=True)\n",
              "      (conv2): Conv2d(512, 512, kernel_size=(3, 3), stride=(2, 2), padding=(1, 1), bias=False)\n",
              "      (bn2): BatchNorm2d(512, eps=1e-05, momentum=0.1, affine=True, track_running_stats=True)\n",
              "      (conv3): Conv2d(512, 2048, kernel_size=(1, 1), stride=(1, 1), bias=False)\n",
              "      (bn3): BatchNorm2d(2048, eps=1e-05, momentum=0.1, affine=True, track_running_stats=True)\n",
              "      (relu): ReLU(inplace=True)\n",
              "      (downsample): Sequential(\n",
              "        (0): Conv2d(1024, 2048, kernel_size=(1, 1), stride=(2, 2), bias=False)\n",
              "        (1): BatchNorm2d(2048, eps=1e-05, momentum=0.1, affine=True, track_running_stats=True)\n",
              "      )\n",
              "    )\n",
              "    (1): Bottleneck(\n",
              "      (conv1): Conv2d(2048, 512, kernel_size=(1, 1), stride=(1, 1), bias=False)\n",
              "      (bn1): BatchNorm2d(512, eps=1e-05, momentum=0.1, affine=True, track_running_stats=True)\n",
              "      (conv2): Conv2d(512, 512, kernel_size=(3, 3), stride=(1, 1), padding=(1, 1), bias=False)\n",
              "      (bn2): BatchNorm2d(512, eps=1e-05, momentum=0.1, affine=True, track_running_stats=True)\n",
              "      (conv3): Conv2d(512, 2048, kernel_size=(1, 1), stride=(1, 1), bias=False)\n",
              "      (bn3): BatchNorm2d(2048, eps=1e-05, momentum=0.1, affine=True, track_running_stats=True)\n",
              "      (relu): ReLU(inplace=True)\n",
              "    )\n",
              "    (2): Bottleneck(\n",
              "      (conv1): Conv2d(2048, 512, kernel_size=(1, 1), stride=(1, 1), bias=False)\n",
              "      (bn1): BatchNorm2d(512, eps=1e-05, momentum=0.1, affine=True, track_running_stats=True)\n",
              "      (conv2): Conv2d(512, 512, kernel_size=(3, 3), stride=(1, 1), padding=(1, 1), bias=False)\n",
              "      (bn2): BatchNorm2d(512, eps=1e-05, momentum=0.1, affine=True, track_running_stats=True)\n",
              "      (conv3): Conv2d(512, 2048, kernel_size=(1, 1), stride=(1, 1), bias=False)\n",
              "      (bn3): BatchNorm2d(2048, eps=1e-05, momentum=0.1, affine=True, track_running_stats=True)\n",
              "      (relu): ReLU(inplace=True)\n",
              "    )\n",
              "  )\n",
              "  (avgpool): AdaptiveAvgPool2d(output_size=(1, 1))\n",
              "  (fc): Linear(in_features=2048, out_features=10, bias=True)\n",
              ")"
            ]
          },
          "metadata": {
            "tags": []
          },
          "execution_count": 18
        }
      ]
    },
    {
      "cell_type": "code",
      "metadata": {
        "id": "ehsXbg7qjakV",
        "colab_type": "code",
        "colab": {
          "base_uri": "https://localhost:8080/",
          "height": 34
        },
        "outputId": "41faf6e1-c01f-4b5b-ae94-e3f1cdb194cf"
      },
      "source": [
        "class_names = loaders_transfer['train'].dataset.classes\n",
        "print(class_names)"
      ],
      "execution_count": null,
      "outputs": [
        {
          "output_type": "stream",
          "text": [
            "['bridge', 'childs', 'downwarddog', 'mountain', 'plank', 'seatedforwardbend', 'tree', 'trianglepose', 'warrior1', 'warrior2']\n"
          ],
          "name": "stdout"
        }
      ]
    },
    {
      "cell_type": "code",
      "metadata": {
        "id": "SMuYqTlRn5bV",
        "colab_type": "code",
        "colab": {}
      },
      "source": [
        "from PIL import Image\n",
        "import torchvision.transforms as transforms\n",
        "\n",
        "def load_input_image(img_path):    \n",
        "    image = Image.open(img_path).convert('RGB')\n",
        "    prediction_transform = transforms.Compose([transforms.Resize(size=(224, 224)),\n",
        "                                     transforms.ToTensor(), \n",
        "                                     standard_normalization])\n",
        "\n",
        "    # discard the transparent, alpha channel (that's the :3) and add the batch dimension\n",
        "    image = prediction_transform(image)[:3,:,:].unsqueeze(0)\n",
        "    return image"
      ],
      "execution_count": null,
      "outputs": []
    },
    {
      "cell_type": "code",
      "metadata": {
        "id": "zp4VJmMGn9OG",
        "colab_type": "code",
        "colab": {}
      },
      "source": [
        "def predict_breed_transfer(model, class_names, img_path):\n",
        "    # load the image and return the predicted breed\n",
        "    img = load_input_image(img_path)\n",
        "    model = model.cpu()\n",
        "    model.eval()\n",
        "    idx = torch.argmax(model(img))\n",
        "    return class_names[idx]"
      ],
      "execution_count": null,
      "outputs": []
    },
    {
      "cell_type": "code",
      "metadata": {
        "id": "WRTNIOr5oBXe",
        "colab_type": "code",
        "colab": {}
      },
      "source": [
        "import matplotlib.pyplot as plt                        \n",
        "%matplotlib inline  \n",
        "\n",
        "def run_app(img_path):\n",
        "    \n",
        "    img = Image.open(img_path)\n",
        "    plt.imshow(img)\n",
        "    plt.show()\n",
        "    \n",
        "    prediction = predict_breed_transfer(model_transfer, class_names, img_path)\n",
        "        \n",
        "    return prediction"
      ],
      "execution_count": null,
      "outputs": []
    },
    {
      "cell_type": "code",
      "metadata": {
        "id": "uXgnUAU-oIWe",
        "colab_type": "code",
        "colab": {
          "base_uri": "https://localhost:8080/",
          "height": 287
        },
        "outputId": "70afc67c-1ccb-4eb3-f491-6e80a99ab20e"
      },
      "source": [
        "run_app(\"/content/drive/My Drive/test_set/mountain/File163.jpg\")"
      ],
      "execution_count": null,
      "outputs": [
        {
          "output_type": "display_data",
          "data": {
            "image/png": "[encoded data removed]",
            "text/plain": [
              "<Figure size 432x288 with 1 Axes>"
            ]
          },
          "metadata": {
            "tags": [],
            "needs_background": "light"
          }
        },
        {
          "output_type": "execute_result",
          "data": {
            "application/vnd.google.colaboratory.intrinsic+json": {
              "type": "string"
            },
            "text/plain": [
              "'mountain'"
            ]
          },
          "metadata": {
            "tags": []
          },
          "execution_count": 39
        }
      ]
    },
    {
      "cell_type": "code",
      "metadata": {
        "id": "R0gPjsimoP6o",
        "colab_type": "code",
        "colab": {}
      },
      "source": [
        "#################  TESTING THE MODEL   ###############################"
      ],
      "execution_count": null,
      "outputs": []
    },
    {
      "cell_type": "code",
      "metadata": {
        "id": "Rqt6FYKmsFcT",
        "colab_type": "code",
        "colab": {}
      },
      "source": [
        ""
      ],
      "execution_count": null,
      "outputs": []
    },
    {
      "cell_type": "code",
      "metadata": {
        "id": "Q8O8htFksQT8",
        "colab_type": "code",
        "colab": {}
      },
      "source": [
        ""
      ],
      "execution_count": null,
      "outputs": []
    },
    {
      "cell_type": "code",
      "metadata": {
        "id": "SSmeVUQnt9bo",
        "colab_type": "code",
        "colab": {}
      },
      "source": [
        ""
      ],
      "execution_count": null,
      "outputs": []
    },
    {
      "cell_type": "code",
      "metadata": {
        "id": "IEmwr2-dsmc0",
        "colab_type": "code",
        "colab": {}
      },
      "source": [
        ""
      ],
      "execution_count": null,
      "outputs": []
    },
    {
      "cell_type": "code",
      "metadata": {
        "id": "7oBzgG6muIKr",
        "colab_type": "code",
        "colab": {}
      },
      "source": [
        ""
      ],
      "execution_count": null,
      "outputs": []
    }
  ]
}